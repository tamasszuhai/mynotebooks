{
 "cells": [
  {
   "cell_type": "markdown",
   "metadata": {},
   "source": [
    "The aim of this project is to clean the data and analyze the included used car listings. You'll also become familiar with some of the unique benefits jupyter notebook provides for pandas.\n",
    "\n",
    "Let's start by importing the libraries we need and reading the dataset into pandas."
   ]
  },
  {
   "cell_type": "code",
   "execution_count": 1,
   "metadata": {},
   "outputs": [
    {
     "data": {
      "text/plain": [
       "(50000, 20)"
      ]
     },
     "execution_count": 1,
     "metadata": {},
     "output_type": "execute_result"
    }
   ],
   "source": [
    "import pandas as pd\n",
    "autos=pd.read_csv(r'https://raw.githubusercontent.com/tamasszuhai/source_files/master/autos.csv',encoding='Latin-1')\n",
    "#autos.info()\n",
    "#autos.head()\n",
    "autos.shape"
   ]
  },
  {
   "cell_type": "code",
   "execution_count": 60,
   "metadata": {},
   "outputs": [
    {
     "data": {
      "text/plain": [
       "(50000, 20)"
      ]
     },
     "execution_count": 60,
     "metadata": {},
     "output_type": "execute_result"
    }
   ],
   "source": [
    "autos_org=pd.read_csv('autos.csv',encoding='Latin-1')\n",
    "autos_org.shape"
   ]
  },
  {
   "cell_type": "code",
   "execution_count": 2,
   "metadata": {},
   "outputs": [
    {
     "data": {
      "text/html": [
       "<div>\n",
       "<style scoped>\n",
       "    .dataframe tbody tr th:only-of-type {\n",
       "        vertical-align: middle;\n",
       "    }\n",
       "\n",
       "    .dataframe tbody tr th {\n",
       "        vertical-align: top;\n",
       "    }\n",
       "\n",
       "    .dataframe thead th {\n",
       "        text-align: right;\n",
       "    }\n",
       "</style>\n",
       "<table border=\"1\" class=\"dataframe\">\n",
       "  <thead>\n",
       "    <tr style=\"text-align: right;\">\n",
       "      <th></th>\n",
       "      <th>dateCrawled</th>\n",
       "      <th>name</th>\n",
       "      <th>seller</th>\n",
       "      <th>offerType</th>\n",
       "      <th>price</th>\n",
       "      <th>abtest</th>\n",
       "      <th>vehicleType</th>\n",
       "      <th>yearOfRegistration</th>\n",
       "      <th>gearbox</th>\n",
       "      <th>powerPS</th>\n",
       "      <th>model</th>\n",
       "      <th>odometer</th>\n",
       "      <th>monthOfRegistration</th>\n",
       "      <th>fuelType</th>\n",
       "      <th>brand</th>\n",
       "      <th>notRepairedDamage</th>\n",
       "      <th>dateCreated</th>\n",
       "      <th>nrOfPictures</th>\n",
       "      <th>postalCode</th>\n",
       "      <th>lastSeen</th>\n",
       "    </tr>\n",
       "  </thead>\n",
       "  <tbody>\n",
       "    <tr>\n",
       "      <th>count</th>\n",
       "      <td>50000</td>\n",
       "      <td>50000</td>\n",
       "      <td>50000</td>\n",
       "      <td>50000</td>\n",
       "      <td>50000</td>\n",
       "      <td>50000</td>\n",
       "      <td>44905</td>\n",
       "      <td>50000.000000</td>\n",
       "      <td>47320</td>\n",
       "      <td>50000.000000</td>\n",
       "      <td>47242</td>\n",
       "      <td>50000</td>\n",
       "      <td>50000.000000</td>\n",
       "      <td>45518</td>\n",
       "      <td>50000</td>\n",
       "      <td>40171</td>\n",
       "      <td>50000</td>\n",
       "      <td>50000.0</td>\n",
       "      <td>50000.000000</td>\n",
       "      <td>50000</td>\n",
       "    </tr>\n",
       "    <tr>\n",
       "      <th>unique</th>\n",
       "      <td>48213</td>\n",
       "      <td>38754</td>\n",
       "      <td>2</td>\n",
       "      <td>2</td>\n",
       "      <td>2357</td>\n",
       "      <td>2</td>\n",
       "      <td>8</td>\n",
       "      <td>NaN</td>\n",
       "      <td>2</td>\n",
       "      <td>NaN</td>\n",
       "      <td>245</td>\n",
       "      <td>13</td>\n",
       "      <td>NaN</td>\n",
       "      <td>7</td>\n",
       "      <td>40</td>\n",
       "      <td>2</td>\n",
       "      <td>76</td>\n",
       "      <td>NaN</td>\n",
       "      <td>NaN</td>\n",
       "      <td>39481</td>\n",
       "    </tr>\n",
       "    <tr>\n",
       "      <th>top</th>\n",
       "      <td>2016-03-09 11:54:38</td>\n",
       "      <td>Ford_Fiesta</td>\n",
       "      <td>privat</td>\n",
       "      <td>Angebot</td>\n",
       "      <td>$0</td>\n",
       "      <td>test</td>\n",
       "      <td>limousine</td>\n",
       "      <td>NaN</td>\n",
       "      <td>manuell</td>\n",
       "      <td>NaN</td>\n",
       "      <td>golf</td>\n",
       "      <td>150,000km</td>\n",
       "      <td>NaN</td>\n",
       "      <td>benzin</td>\n",
       "      <td>volkswagen</td>\n",
       "      <td>nein</td>\n",
       "      <td>2016-04-03 00:00:00</td>\n",
       "      <td>NaN</td>\n",
       "      <td>NaN</td>\n",
       "      <td>2016-04-07 06:17:27</td>\n",
       "    </tr>\n",
       "    <tr>\n",
       "      <th>freq</th>\n",
       "      <td>3</td>\n",
       "      <td>78</td>\n",
       "      <td>49999</td>\n",
       "      <td>49999</td>\n",
       "      <td>1421</td>\n",
       "      <td>25756</td>\n",
       "      <td>12859</td>\n",
       "      <td>NaN</td>\n",
       "      <td>36993</td>\n",
       "      <td>NaN</td>\n",
       "      <td>4024</td>\n",
       "      <td>32424</td>\n",
       "      <td>NaN</td>\n",
       "      <td>30107</td>\n",
       "      <td>10687</td>\n",
       "      <td>35232</td>\n",
       "      <td>1946</td>\n",
       "      <td>NaN</td>\n",
       "      <td>NaN</td>\n",
       "      <td>8</td>\n",
       "    </tr>\n",
       "    <tr>\n",
       "      <th>mean</th>\n",
       "      <td>NaN</td>\n",
       "      <td>NaN</td>\n",
       "      <td>NaN</td>\n",
       "      <td>NaN</td>\n",
       "      <td>NaN</td>\n",
       "      <td>NaN</td>\n",
       "      <td>NaN</td>\n",
       "      <td>2005.073280</td>\n",
       "      <td>NaN</td>\n",
       "      <td>116.355920</td>\n",
       "      <td>NaN</td>\n",
       "      <td>NaN</td>\n",
       "      <td>5.723360</td>\n",
       "      <td>NaN</td>\n",
       "      <td>NaN</td>\n",
       "      <td>NaN</td>\n",
       "      <td>NaN</td>\n",
       "      <td>0.0</td>\n",
       "      <td>50813.627300</td>\n",
       "      <td>NaN</td>\n",
       "    </tr>\n",
       "    <tr>\n",
       "      <th>std</th>\n",
       "      <td>NaN</td>\n",
       "      <td>NaN</td>\n",
       "      <td>NaN</td>\n",
       "      <td>NaN</td>\n",
       "      <td>NaN</td>\n",
       "      <td>NaN</td>\n",
       "      <td>NaN</td>\n",
       "      <td>105.712813</td>\n",
       "      <td>NaN</td>\n",
       "      <td>209.216627</td>\n",
       "      <td>NaN</td>\n",
       "      <td>NaN</td>\n",
       "      <td>3.711984</td>\n",
       "      <td>NaN</td>\n",
       "      <td>NaN</td>\n",
       "      <td>NaN</td>\n",
       "      <td>NaN</td>\n",
       "      <td>0.0</td>\n",
       "      <td>25779.747957</td>\n",
       "      <td>NaN</td>\n",
       "    </tr>\n",
       "    <tr>\n",
       "      <th>min</th>\n",
       "      <td>NaN</td>\n",
       "      <td>NaN</td>\n",
       "      <td>NaN</td>\n",
       "      <td>NaN</td>\n",
       "      <td>NaN</td>\n",
       "      <td>NaN</td>\n",
       "      <td>NaN</td>\n",
       "      <td>1000.000000</td>\n",
       "      <td>NaN</td>\n",
       "      <td>0.000000</td>\n",
       "      <td>NaN</td>\n",
       "      <td>NaN</td>\n",
       "      <td>0.000000</td>\n",
       "      <td>NaN</td>\n",
       "      <td>NaN</td>\n",
       "      <td>NaN</td>\n",
       "      <td>NaN</td>\n",
       "      <td>0.0</td>\n",
       "      <td>1067.000000</td>\n",
       "      <td>NaN</td>\n",
       "    </tr>\n",
       "    <tr>\n",
       "      <th>25%</th>\n",
       "      <td>NaN</td>\n",
       "      <td>NaN</td>\n",
       "      <td>NaN</td>\n",
       "      <td>NaN</td>\n",
       "      <td>NaN</td>\n",
       "      <td>NaN</td>\n",
       "      <td>NaN</td>\n",
       "      <td>1999.000000</td>\n",
       "      <td>NaN</td>\n",
       "      <td>70.000000</td>\n",
       "      <td>NaN</td>\n",
       "      <td>NaN</td>\n",
       "      <td>3.000000</td>\n",
       "      <td>NaN</td>\n",
       "      <td>NaN</td>\n",
       "      <td>NaN</td>\n",
       "      <td>NaN</td>\n",
       "      <td>0.0</td>\n",
       "      <td>30451.000000</td>\n",
       "      <td>NaN</td>\n",
       "    </tr>\n",
       "    <tr>\n",
       "      <th>50%</th>\n",
       "      <td>NaN</td>\n",
       "      <td>NaN</td>\n",
       "      <td>NaN</td>\n",
       "      <td>NaN</td>\n",
       "      <td>NaN</td>\n",
       "      <td>NaN</td>\n",
       "      <td>NaN</td>\n",
       "      <td>2003.000000</td>\n",
       "      <td>NaN</td>\n",
       "      <td>105.000000</td>\n",
       "      <td>NaN</td>\n",
       "      <td>NaN</td>\n",
       "      <td>6.000000</td>\n",
       "      <td>NaN</td>\n",
       "      <td>NaN</td>\n",
       "      <td>NaN</td>\n",
       "      <td>NaN</td>\n",
       "      <td>0.0</td>\n",
       "      <td>49577.000000</td>\n",
       "      <td>NaN</td>\n",
       "    </tr>\n",
       "    <tr>\n",
       "      <th>75%</th>\n",
       "      <td>NaN</td>\n",
       "      <td>NaN</td>\n",
       "      <td>NaN</td>\n",
       "      <td>NaN</td>\n",
       "      <td>NaN</td>\n",
       "      <td>NaN</td>\n",
       "      <td>NaN</td>\n",
       "      <td>2008.000000</td>\n",
       "      <td>NaN</td>\n",
       "      <td>150.000000</td>\n",
       "      <td>NaN</td>\n",
       "      <td>NaN</td>\n",
       "      <td>9.000000</td>\n",
       "      <td>NaN</td>\n",
       "      <td>NaN</td>\n",
       "      <td>NaN</td>\n",
       "      <td>NaN</td>\n",
       "      <td>0.0</td>\n",
       "      <td>71540.000000</td>\n",
       "      <td>NaN</td>\n",
       "    </tr>\n",
       "    <tr>\n",
       "      <th>max</th>\n",
       "      <td>NaN</td>\n",
       "      <td>NaN</td>\n",
       "      <td>NaN</td>\n",
       "      <td>NaN</td>\n",
       "      <td>NaN</td>\n",
       "      <td>NaN</td>\n",
       "      <td>NaN</td>\n",
       "      <td>9999.000000</td>\n",
       "      <td>NaN</td>\n",
       "      <td>17700.000000</td>\n",
       "      <td>NaN</td>\n",
       "      <td>NaN</td>\n",
       "      <td>12.000000</td>\n",
       "      <td>NaN</td>\n",
       "      <td>NaN</td>\n",
       "      <td>NaN</td>\n",
       "      <td>NaN</td>\n",
       "      <td>0.0</td>\n",
       "      <td>99998.000000</td>\n",
       "      <td>NaN</td>\n",
       "    </tr>\n",
       "  </tbody>\n",
       "</table>\n",
       "</div>"
      ],
      "text/plain": [
       "                dateCrawled         name  seller offerType  price abtest  \\\n",
       "count                 50000        50000   50000     50000  50000  50000   \n",
       "unique                48213        38754       2         2   2357      2   \n",
       "top     2016-03-09 11:54:38  Ford_Fiesta  privat   Angebot     $0   test   \n",
       "freq                      3           78   49999     49999   1421  25756   \n",
       "mean                    NaN          NaN     NaN       NaN    NaN    NaN   \n",
       "std                     NaN          NaN     NaN       NaN    NaN    NaN   \n",
       "min                     NaN          NaN     NaN       NaN    NaN    NaN   \n",
       "25%                     NaN          NaN     NaN       NaN    NaN    NaN   \n",
       "50%                     NaN          NaN     NaN       NaN    NaN    NaN   \n",
       "75%                     NaN          NaN     NaN       NaN    NaN    NaN   \n",
       "max                     NaN          NaN     NaN       NaN    NaN    NaN   \n",
       "\n",
       "       vehicleType  yearOfRegistration  gearbox       powerPS  model  \\\n",
       "count        44905        50000.000000    47320  50000.000000  47242   \n",
       "unique           8                 NaN        2           NaN    245   \n",
       "top      limousine                 NaN  manuell           NaN   golf   \n",
       "freq         12859                 NaN    36993           NaN   4024   \n",
       "mean           NaN         2005.073280      NaN    116.355920    NaN   \n",
       "std            NaN          105.712813      NaN    209.216627    NaN   \n",
       "min            NaN         1000.000000      NaN      0.000000    NaN   \n",
       "25%            NaN         1999.000000      NaN     70.000000    NaN   \n",
       "50%            NaN         2003.000000      NaN    105.000000    NaN   \n",
       "75%            NaN         2008.000000      NaN    150.000000    NaN   \n",
       "max            NaN         9999.000000      NaN  17700.000000    NaN   \n",
       "\n",
       "         odometer  monthOfRegistration fuelType       brand notRepairedDamage  \\\n",
       "count       50000         50000.000000    45518       50000             40171   \n",
       "unique         13                  NaN        7          40                 2   \n",
       "top     150,000km                  NaN   benzin  volkswagen              nein   \n",
       "freq        32424                  NaN    30107       10687             35232   \n",
       "mean          NaN             5.723360      NaN         NaN               NaN   \n",
       "std           NaN             3.711984      NaN         NaN               NaN   \n",
       "min           NaN             0.000000      NaN         NaN               NaN   \n",
       "25%           NaN             3.000000      NaN         NaN               NaN   \n",
       "50%           NaN             6.000000      NaN         NaN               NaN   \n",
       "75%           NaN             9.000000      NaN         NaN               NaN   \n",
       "max           NaN            12.000000      NaN         NaN               NaN   \n",
       "\n",
       "                dateCreated  nrOfPictures    postalCode             lastSeen  \n",
       "count                 50000       50000.0  50000.000000                50000  \n",
       "unique                   76           NaN           NaN                39481  \n",
       "top     2016-04-03 00:00:00           NaN           NaN  2016-04-07 06:17:27  \n",
       "freq                   1946           NaN           NaN                    8  \n",
       "mean                    NaN           0.0  50813.627300                  NaN  \n",
       "std                     NaN           0.0  25779.747957                  NaN  \n",
       "min                     NaN           0.0   1067.000000                  NaN  \n",
       "25%                     NaN           0.0  30451.000000                  NaN  \n",
       "50%                     NaN           0.0  49577.000000                  NaN  \n",
       "75%                     NaN           0.0  71540.000000                  NaN  \n",
       "max                     NaN           0.0  99998.000000                  NaN  "
      ]
     },
     "execution_count": 2,
     "metadata": {},
     "output_type": "execute_result"
    }
   ],
   "source": [
    "autos.describe(include='all')"
   ]
  },
  {
   "cell_type": "code",
   "execution_count": 3,
   "metadata": {},
   "outputs": [
    {
     "data": {
      "text/plain": [
       "price       object\n",
       "odometer    object\n",
       "dtype: object"
      ]
     },
     "execution_count": 3,
     "metadata": {},
     "output_type": "execute_result"
    }
   ],
   "source": [
    "autos.dtypes.loc[['price','odometer']]\n",
    "#autos.dtypes.value_counts()\n",
    "# price  "
   ]
  },
  {
   "cell_type": "code",
   "execution_count": 4,
   "metadata": {},
   "outputs": [
    {
     "data": {
      "text/plain": [
       "dateCrawled            object\n",
       "name                   object\n",
       "seller                 object\n",
       "offerType              object\n",
       "price                  object\n",
       "abtest                 object\n",
       "vehicleType            object\n",
       "yearOfRegistration      int64\n",
       "gearbox                object\n",
       "powerPS                 int64\n",
       "model                  object\n",
       "odometer               object\n",
       "monthOfRegistration     int64\n",
       "fuelType               object\n",
       "brand                  object\n",
       "notRepairedDamage      object\n",
       "dateCreated            object\n",
       "nrOfPictures            int64\n",
       "postalCode              int64\n",
       "lastSeen               object\n",
       "dtype: object"
      ]
     },
     "execution_count": 4,
     "metadata": {},
     "output_type": "execute_result"
    }
   ],
   "source": [
    "autos.dtypes"
   ]
  },
  {
   "cell_type": "markdown",
   "metadata": {},
   "source": [
    "We can conclude that the values in `price` and `odometer` columns stored as text, but we need to convert them into numeric types. \n",
    "\n",
    "Exploring the null values & columns' name <br>\n",
    "The column names use camelcase instead of Python's preferred snakecase.\n",
    "Convert the column names from camelcase to snakecase and reword some of the column names based on the data dictionary to be more descriptive"
   ]
  },
  {
   "cell_type": "code",
   "execution_count": 5,
   "metadata": {},
   "outputs": [
    {
     "data": {
      "text/plain": [
       "Index(['dateCrawled', 'name', 'seller', 'offerType', 'price', 'abtest',\n",
       "       'vehicleType', 'yearOfRegistration', 'gearbox', 'powerPS', 'model',\n",
       "       'odometer', 'monthOfRegistration', 'fuelType', 'brand',\n",
       "       'notRepairedDamage', 'dateCreated', 'nrOfPictures', 'postalCode',\n",
       "       'lastSeen'],\n",
       "      dtype='object')"
      ]
     },
     "execution_count": 5,
     "metadata": {},
     "output_type": "execute_result"
    }
   ],
   "source": [
    "autos.columns"
   ]
  },
  {
   "cell_type": "code",
   "execution_count": 6,
   "metadata": {},
   "outputs": [],
   "source": [
    "mapping_dict = {'dateCrawled':'date_crawled',\n",
    "                'name':'name',\n",
    "                'seller':'seller',\n",
    "                'price':'price',\n",
    "                'abtest':'abtest',\n",
    "                'offerType':'offer_type',\n",
    "                'vehicleType':'vehicle_type',\n",
    "                'yearOfRegistration':'registration_year' ,\n",
    "                'gearbox':'gearbox',\n",
    "                'powerPS':'power_ps',\n",
    "                'model':'model',\n",
    "                'odometer':'odometer_km',\n",
    "                'monthOfRegistration': 'registration_month',\n",
    "                'fuelType':'fuel_type',\n",
    "                'brand':'brand',\n",
    "                'notRepairedDamage':'unrepaired_damage',\n",
    "                'dateCreated':'ad_created',\n",
    "                'nrOfPictures':'pictures',\n",
    "                'postalCode':'postal_code',\n",
    "                'lastSeen':'last_seen'    \n",
    "}\n",
    "\n",
    "new_columns=autos.columns.map(mapping_dict)\n",
    "autos.columns=new_columns"
   ]
  },
  {
   "cell_type": "markdown",
   "metadata": {},
   "source": [
    "Convert `price` and `odometer` columns into numeric types"
   ]
  },
  {
   "cell_type": "code",
   "execution_count": 7,
   "metadata": {},
   "outputs": [
    {
     "data": {
      "text/plain": [
       "0    5000\n",
       "1    8500\n",
       "2    8990\n",
       "3    4350\n",
       "4    1350\n",
       "Name: price, dtype: int32"
      ]
     },
     "execution_count": 7,
     "metadata": {},
     "output_type": "execute_result"
    }
   ],
   "source": [
    "autos[\"price\"] = (autos[\"price\"]\n",
    "                          .str.replace(\"$\",\"\")\n",
    "                          .str.replace(\",\",\"\")\n",
    "                          .astype(int)\n",
    "                          )\n",
    "autos[\"price\"].head()"
   ]
  },
  {
   "cell_type": "code",
   "execution_count": 8,
   "metadata": {},
   "outputs": [
    {
     "data": {
      "text/plain": [
       "0    150000\n",
       "1    150000\n",
       "2     70000\n",
       "3     70000\n",
       "4    150000\n",
       "Name: odometer_km, dtype: int32"
      ]
     },
     "execution_count": 8,
     "metadata": {},
     "output_type": "execute_result"
    }
   ],
   "source": [
    "autos[\"odometer_km\"] = (autos[\"odometer_km\"]\n",
    "                             .str.replace(\"km\",\"\")\n",
    "                             .str.replace(\",\",\"\")\n",
    "                             .astype(int)\n",
    "                             )\n",
    "autos[\"odometer_km\"].head()"
   ]
  },
  {
   "cell_type": "code",
   "execution_count": 9,
   "metadata": {},
   "outputs": [
    {
     "name": "stdout",
     "output_type": "stream",
     "text": [
      "<class 'pandas.core.frame.DataFrame'>\n",
      "RangeIndex: 50000 entries, 0 to 49999\n",
      "Data columns (total 20 columns):\n",
      "date_crawled          50000 non-null object\n",
      "name                  50000 non-null object\n",
      "seller                50000 non-null object\n",
      "offer_type            50000 non-null object\n",
      "price                 50000 non-null int32\n",
      "abtest                50000 non-null object\n",
      "vehicle_type          44905 non-null object\n",
      "registration_year     50000 non-null int64\n",
      "gearbox               47320 non-null object\n",
      "power_ps              50000 non-null int64\n",
      "model                 47242 non-null object\n",
      "odometer_km           50000 non-null int32\n",
      "registration_month    50000 non-null int64\n",
      "fuel_type             45518 non-null object\n",
      "brand                 50000 non-null object\n",
      "unrepaired_damage     40171 non-null object\n",
      "ad_created            50000 non-null object\n",
      "pictures              50000 non-null int64\n",
      "postal_code           50000 non-null int64\n",
      "last_seen             50000 non-null object\n",
      "dtypes: int32(2), int64(5), object(13)\n",
      "memory usage: 7.2+ MB\n"
     ]
    }
   ],
   "source": [
    "autos.info()"
   ]
  },
  {
   "cell_type": "code",
   "execution_count": 10,
   "metadata": {},
   "outputs": [
    {
     "data": {
      "text/plain": [
       "privat        49999\n",
       "gewerblich        1\n",
       "Name: seller, dtype: int64"
      ]
     },
     "execution_count": 10,
     "metadata": {},
     "output_type": "execute_result"
    }
   ],
   "source": [
    "autos.seller.value_counts()"
   ]
  },
  {
   "cell_type": "code",
   "execution_count": 11,
   "metadata": {},
   "outputs": [
    {
     "data": {
      "text/plain": [
       "Angebot    49999\n",
       "Gesuch         1\n",
       "Name: offer_type, dtype: int64"
      ]
     },
     "execution_count": 11,
     "metadata": {},
     "output_type": "execute_result"
    }
   ],
   "source": [
    "autos.offer_type.value_counts()"
   ]
  },
  {
   "cell_type": "code",
   "execution_count": 12,
   "metadata": {},
   "outputs": [
    {
     "data": {
      "text/plain": [
       "test       25756\n",
       "control    24244\n",
       "Name: abtest, dtype: int64"
      ]
     },
     "execution_count": 12,
     "metadata": {},
     "output_type": "execute_result"
    }
   ],
   "source": [
    "autos.abtest.value_counts()"
   ]
  },
  {
   "cell_type": "code",
   "execution_count": 13,
   "metadata": {},
   "outputs": [
    {
     "data": {
      "text/plain": [
       "0    50000\n",
       "Name: pictures, dtype: int64"
      ]
     },
     "execution_count": 13,
     "metadata": {},
     "output_type": "execute_result"
    }
   ],
   "source": [
    "autos.pictures.value_counts()"
   ]
  },
  {
   "cell_type": "code",
   "execution_count": 14,
   "metadata": {},
   "outputs": [
    {
     "name": "stdout",
     "output_type": "stream",
     "text": [
      "<class 'pandas.core.frame.DataFrame'>\n",
      "RangeIndex: 50000 entries, 0 to 49999\n",
      "Data columns (total 20 columns):\n",
      "date_crawled          50000 non-null object\n",
      "name                  50000 non-null object\n",
      "seller                50000 non-null object\n",
      "offer_type            50000 non-null object\n",
      "price                 50000 non-null int32\n",
      "abtest                50000 non-null object\n",
      "vehicle_type          44905 non-null object\n",
      "registration_year     50000 non-null int64\n",
      "gearbox               47320 non-null object\n",
      "power_ps              50000 non-null int64\n",
      "model                 47242 non-null object\n",
      "odometer_km           50000 non-null int32\n",
      "registration_month    50000 non-null int64\n",
      "fuel_type             45518 non-null object\n",
      "brand                 50000 non-null object\n",
      "unrepaired_damage     40171 non-null object\n",
      "ad_created            50000 non-null object\n",
      "pictures              50000 non-null int64\n",
      "postal_code           50000 non-null int64\n",
      "last_seen             50000 non-null object\n",
      "dtypes: int32(2), int64(5), object(13)\n",
      "memory usage: 7.2+ MB\n"
     ]
    }
   ],
   "source": [
    "autos.info()"
   ]
  },
  {
   "cell_type": "code",
   "execution_count": 15,
   "metadata": {},
   "outputs": [
    {
     "data": {
      "text/plain": [
       "['abtest',\n",
       " 'ad_created',\n",
       " 'brand',\n",
       " 'date_crawled',\n",
       " 'fuel_type',\n",
       " 'gearbox',\n",
       " 'last_seen',\n",
       " 'model',\n",
       " 'name',\n",
       " 'odometer_km',\n",
       " 'offer_type',\n",
       " 'pictures',\n",
       " 'postal_code',\n",
       " 'power_ps',\n",
       " 'price',\n",
       " 'registration_month',\n",
       " 'registration_year',\n",
       " 'seller',\n",
       " 'unrepaired_damage',\n",
       " 'vehicle_type']"
      ]
     },
     "execution_count": 15,
     "metadata": {},
     "output_type": "execute_result"
    }
   ],
   "source": [
    "#autos.drop(axis=1, labels='pictures', inplace=True)\n",
    "autos.columns.sort_values()\n",
    "sorted(autos.columns)"
   ]
  },
  {
   "cell_type": "code",
   "execution_count": 16,
   "metadata": {},
   "outputs": [
    {
     "data": {
      "text/plain": [
       "['abtest',\n",
       " 'ad_created',\n",
       " 'brand',\n",
       " 'date_crawled',\n",
       " 'fuel_type',\n",
       " 'gearbox',\n",
       " 'last_seen',\n",
       " 'model',\n",
       " 'name',\n",
       " 'odometer_km',\n",
       " 'offer_type',\n",
       " 'pictures',\n",
       " 'postal_code',\n",
       " 'power_ps',\n",
       " 'price',\n",
       " 'registration_month',\n",
       " 'registration_year',\n",
       " 'seller',\n",
       " 'unrepaired_damage',\n",
       " 'vehicle_type']"
      ]
     },
     "execution_count": 16,
     "metadata": {},
     "output_type": "execute_result"
    }
   ],
   "source": [
    "#autos['seller'].value_counts()\n",
    "#autos['offer_type'].value_counts()\n",
    "#autos = autos.drop([\"seller\", \"offer_type\"], axis=1)\n",
    "sorted(autos.columns)"
   ]
  },
  {
   "cell_type": "markdown",
   "metadata": {},
   "source": [
    "## Explore odometer & price column"
   ]
  },
  {
   "cell_type": "code",
   "execution_count": 17,
   "metadata": {},
   "outputs": [
    {
     "data": {
      "text/plain": [
       "150000    32424\n",
       "125000     5170\n",
       "100000     2169\n",
       "90000      1757\n",
       "80000      1436\n",
       "70000      1230\n",
       "60000      1164\n",
       "50000      1027\n",
       "5000        967\n",
       "40000       819\n",
       "30000       789\n",
       "20000       784\n",
       "10000       264\n",
       "Name: odometer_km, dtype: int64"
      ]
     },
     "execution_count": 17,
     "metadata": {},
     "output_type": "execute_result"
    }
   ],
   "source": [
    "autos[\"odometer_km\"].value_counts()"
   ]
  },
  {
   "cell_type": "markdown",
   "metadata": {},
   "source": [
    "We can see that the values in this field are rounded, which might indicate that sellers had to choose from pre-set options for this field.  Additionally, there are more high mileage than low mileage vehicles."
   ]
  },
  {
   "cell_type": "code",
   "execution_count": 18,
   "metadata": {},
   "outputs": [
    {
     "name": "stdout",
     "output_type": "stream",
     "text": [
      "There are 2357 unique values in the column \"price\". \n",
      "\n",
      "count    5.000000e+04\n",
      "mean     9.840044e+03\n",
      "std      4.811044e+05\n",
      "min      0.000000e+00\n",
      "25%      1.100000e+03\n",
      "50%      2.950000e+03\n",
      "75%      7.200000e+03\n",
      "max      1.000000e+08\n",
      "Name: price, dtype: float64\n"
     ]
    },
    {
     "data": {
      "text/plain": [
       "99999999"
      ]
     },
     "execution_count": 18,
     "metadata": {},
     "output_type": "execute_result"
    }
   ],
   "source": [
    "print(\"There are\" , len(autos[\"price\"].unique()), 'unique values in the column \"price\". ')\n",
    "print('\\n',end='')\n",
    "print(autos[\"price\"].describe())\n",
    "autos[\"price\"].value_counts().head()\n",
    "max(autos[\"price\"].unique())"
   ]
  },
  {
   "cell_type": "markdown",
   "metadata": {},
   "source": [
    "Again, the prices in this column seem rounded, however given there are 2357 unique values in the column, that may just be people's tendency to round prices on the site.\n",
    "\n",
    "\n",
    "There are 1,421 cars listed with \\\\$0 price - given that this is only 2% of the of the cars, we might consider removing these rows.  The maximum price is one hundred million dollars, which seems a lot, let's look at the highest prices further."
   ]
  },
  {
   "cell_type": "code",
   "execution_count": 19,
   "metadata": {},
   "outputs": [
    {
     "data": {
      "text/plain": [
       "99999999    1\n",
       "27322222    1\n",
       "12345678    3\n",
       "11111111    2\n",
       "10000000    1\n",
       "3890000     1\n",
       "1300000     1\n",
       "1234566     1\n",
       "999999      2\n",
       "999990      1\n",
       "350000      1\n",
       "345000      1\n",
       "299000      1\n",
       "295000      1\n",
       "265000      1\n",
       "259000      1\n",
       "250000      1\n",
       "220000      1\n",
       "198000      1\n",
       "197000      1\n",
       "Name: price, dtype: int64"
      ]
     },
     "execution_count": 19,
     "metadata": {},
     "output_type": "execute_result"
    }
   ],
   "source": [
    "autos[\"price\"].value_counts().sort_index(ascending=False).head(20)"
   ]
  },
  {
   "cell_type": "code",
   "execution_count": 20,
   "metadata": {},
   "outputs": [
    {
     "data": {
      "text/plain": [
       "0     1421\n",
       "1      156\n",
       "2        3\n",
       "3        1\n",
       "5        2\n",
       "8        1\n",
       "9        1\n",
       "10       7\n",
       "11       2\n",
       "12       3\n",
       "13       2\n",
       "14       1\n",
       "15       2\n",
       "17       3\n",
       "18       1\n",
       "20       4\n",
       "25       5\n",
       "29       1\n",
       "30       7\n",
       "35       1\n",
       "Name: price, dtype: int64"
      ]
     },
     "execution_count": 20,
     "metadata": {},
     "output_type": "execute_result"
    }
   ],
   "source": [
    "autos[\"price\"].value_counts().sort_index(ascending=True).head(20)"
   ]
  },
  {
   "cell_type": "markdown",
   "metadata": {},
   "source": [
    "There are a number of listings with prices below \\\\$30, including about 1,500 at \\\\$0.  There are also a small number of listings with very high values, including 14 at around or over \\\\$1 million.\n",
    "\n",
    "Given that eBay is an auction site, there could legitimately be items where the opening bid is \\\\$1.  We will keep the \\$1 items, but remove anything above \\\\$350,000, since it seems that prices increase steadily to that number and then jump up to less realistic numbers."
   ]
  },
  {
   "cell_type": "code",
   "execution_count": 21,
   "metadata": {},
   "outputs": [
    {
     "data": {
      "text/plain": [
       "count     48565.000000\n",
       "mean       5888.935591\n",
       "std        9059.854754\n",
       "min           1.000000\n",
       "25%        1200.000000\n",
       "50%        3000.000000\n",
       "75%        7490.000000\n",
       "max      350000.000000\n",
       "Name: price, dtype: float64"
      ]
     },
     "execution_count": 21,
     "metadata": {},
     "output_type": "execute_result"
    }
   ],
   "source": [
    "autos = autos[autos[\"price\"].between(1,351000)]\n",
    "autos[\"price\"].describe()"
   ]
  },
  {
   "cell_type": "markdown",
   "metadata": {},
   "source": [
    "When removing outliers, we can do <span style=\"background-color: #F59EBF\">df[(df[\"col\"] > x ) &\n",
    "(df[\"col\"] < y )]</span>, \n",
    "but it's more readable to use <span style=\"background-color: #F59EBF\">df[df[\"col\"].between(x,y)]</span>\n"
   ]
  },
  {
   "cell_type": "code",
   "execution_count": 22,
   "metadata": {
    "scrolled": true
   },
   "outputs": [
    {
     "data": {
      "text/plain": [
       "150000    31414\n",
       "125000     5057\n",
       "100000     2115\n",
       "90000      1734\n",
       "80000      1415\n",
       "70000      1217\n",
       "60000      1155\n",
       "50000      1012\n",
       "40000       815\n",
       "30000       780\n",
       "20000       762\n",
       "10000       253\n",
       "5000        836\n",
       "Name: odometer_km, dtype: int64"
      ]
     },
     "execution_count": 22,
     "metadata": {},
     "output_type": "execute_result"
    }
   ],
   "source": [
    "autos['odometer_km'].value_counts().sort_index(ascending=False)"
   ]
  },
  {
   "cell_type": "markdown",
   "metadata": {},
   "source": [
    "## Exploring the date columns"
   ]
  },
  {
   "cell_type": "code",
   "execution_count": 23,
   "metadata": {},
   "outputs": [
    {
     "data": {
      "text/plain": [
       "['abtest',\n",
       " 'ad_created',\n",
       " 'brand',\n",
       " 'date_crawled',\n",
       " 'fuel_type',\n",
       " 'gearbox',\n",
       " 'last_seen',\n",
       " 'model',\n",
       " 'name',\n",
       " 'odometer_km',\n",
       " 'offer_type',\n",
       " 'pictures',\n",
       " 'postal_code',\n",
       " 'power_ps',\n",
       " 'price',\n",
       " 'registration_month',\n",
       " 'registration_year',\n",
       " 'seller',\n",
       " 'unrepaired_damage',\n",
       " 'vehicle_type']"
      ]
     },
     "execution_count": 23,
     "metadata": {},
     "output_type": "execute_result"
    }
   ],
   "source": [
    "sorted(autos.columns)"
   ]
  },
  {
   "cell_type": "markdown",
   "metadata": {},
   "source": [
    "There are 5 columns that should represent date values.\n",
    "\n",
    "- `date_crawled`: added by the crawler\n",
    "- `last_seen`: added by the crawler\n",
    "- `ad_created`: from the website\n",
    "- `registration_month`: from the website\n",
    "- `registration_year`: from the website"
   ]
  },
  {
   "cell_type": "code",
   "execution_count": 24,
   "metadata": {},
   "outputs": [
    {
     "name": "stdout",
     "output_type": "stream",
     "text": [
      "object\n",
      "object\n",
      "object\n",
      "int64\n",
      "int64\n"
     ]
    }
   ],
   "source": [
    "autos.loc[0:4,['date_crawled','ad_created','last_seen']]\n",
    "print(autos['date_crawled'].dtype)\n",
    "print(autos['ad_created'].dtype)\n",
    "print(autos['last_seen'].dtype)\n",
    "print(autos['registration_month'].dtype)\n",
    "print(autos['registration_year'].dtype)"
   ]
  },
  {
   "cell_type": "markdown",
   "metadata": {},
   "source": [
    "the first 10 characters represent the day (e.g. `2016-03-05`). "
   ]
  },
  {
   "cell_type": "code",
   "execution_count": 25,
   "metadata": {},
   "outputs": [
    {
     "data": {
      "text/plain": [
       "2016-03-05    0.025327\n",
       "2016-03-06    0.014043\n",
       "2016-03-07    0.036014\n",
       "2016-03-08    0.033296\n",
       "2016-03-09    0.033090\n",
       "2016-03-10    0.032184\n",
       "2016-03-11    0.032575\n",
       "2016-03-12    0.036920\n",
       "2016-03-13    0.015670\n",
       "2016-03-14    0.036549\n",
       "2016-03-15    0.034284\n",
       "2016-03-16    0.029610\n",
       "2016-03-17    0.031628\n",
       "2016-03-18    0.012911\n",
       "2016-03-19    0.034778\n",
       "2016-03-20    0.037887\n",
       "2016-03-21    0.037373\n",
       "2016-03-22    0.032987\n",
       "2016-03-23    0.032225\n",
       "2016-03-24    0.029342\n",
       "2016-03-25    0.031607\n",
       "2016-03-26    0.032204\n",
       "2016-03-27    0.031092\n",
       "2016-03-28    0.034860\n",
       "2016-03-29    0.034099\n",
       "2016-03-30    0.033687\n",
       "2016-03-31    0.031834\n",
       "2016-04-01    0.033687\n",
       "2016-04-02    0.035478\n",
       "2016-04-03    0.038608\n",
       "2016-04-04    0.036487\n",
       "2016-04-05    0.013096\n",
       "2016-04-06    0.003171\n",
       "2016-04-07    0.001400\n",
       "Name: date_crawled, dtype: float64"
      ]
     },
     "execution_count": 25,
     "metadata": {},
     "output_type": "execute_result"
    }
   ],
   "source": [
    "(autos[\"date_crawled\"]\n",
    "        .str[:10]\n",
    "        .value_counts(normalize=True, dropna=False)\n",
    "        .sort_index()\n",
    "        )\n"
   ]
  },
  {
   "cell_type": "code",
   "execution_count": 26,
   "metadata": {},
   "outputs": [
    {
     "data": {
      "text/plain": [
       "3.8793369710697"
      ]
     },
     "execution_count": 26,
     "metadata": {},
     "output_type": "execute_result"
    }
   ],
   "source": [
    "autos.registration_year.describe()\n",
    "\n",
    "#Another common operation is the use of boolean vectors to filter the data. \n",
    "#The operators are: | for or, & for and, and ~ for not. \n",
    "#These must be grouped by using parentheses, \n",
    "#since by default Python will evaluate an expression such as df.A > 2 & df.B < 3 as df.A > (2 & df.B) < 3, \n",
    "#while the desired evaluation order is (df.A > 2) & (df.B < 3).\n",
    "\n",
    "autos.loc[~(autos['registration_year'].between(1900,2016)),'registration_year'].count() /len(autos['registration_year'])*100"
   ]
  },
  {
   "cell_type": "code",
   "execution_count": 27,
   "metadata": {},
   "outputs": [
    {
     "data": {
      "text/plain": [
       "2016-04-03    0.039\n",
       "2016-03-20    0.038\n",
       "2016-03-21    0.037\n",
       "2016-03-12    0.037\n",
       "2016-03-14    0.037\n",
       "2016-04-04    0.036\n",
       "2016-03-07    0.036\n",
       "2016-04-02    0.035\n",
       "2016-03-28    0.035\n",
       "2016-03-19    0.035\n",
       "2016-03-15    0.034\n",
       "2016-03-29    0.034\n",
       "2016-04-01    0.034\n",
       "2016-03-30    0.034\n",
       "2016-03-08    0.033\n",
       "2016-03-09    0.033\n",
       "2016-03-22    0.033\n",
       "2016-03-11    0.033\n",
       "2016-03-23    0.032\n",
       "2016-03-26    0.032\n",
       "2016-03-10    0.032\n",
       "2016-03-31    0.032\n",
       "2016-03-17    0.032\n",
       "2016-03-25    0.032\n",
       "2016-03-27    0.031\n",
       "2016-03-16    0.030\n",
       "2016-03-24    0.029\n",
       "2016-03-05    0.025\n",
       "2016-03-13    0.016\n",
       "2016-03-06    0.014\n",
       "2016-04-05    0.013\n",
       "2016-03-18    0.013\n",
       "2016-04-06    0.003\n",
       "2016-04-07    0.001\n",
       "Name: date_crawled, dtype: float64"
      ]
     },
     "execution_count": 27,
     "metadata": {},
     "output_type": "execute_result"
    }
   ],
   "source": [
    "(round(autos[\"date_crawled\"]\n",
    "        .str[:10]\n",
    "        .value_counts(normalize=True, dropna=False)\n",
    "        .sort_values(ascending=False),3)\n",
    "        )"
   ]
  },
  {
   "cell_type": "code",
   "execution_count": 28,
   "metadata": {},
   "outputs": [
    {
     "data": {
      "text/html": [
       "<div>\n",
       "<style scoped>\n",
       "    .dataframe tbody tr th:only-of-type {\n",
       "        vertical-align: middle;\n",
       "    }\n",
       "\n",
       "    .dataframe tbody tr th {\n",
       "        vertical-align: top;\n",
       "    }\n",
       "\n",
       "    .dataframe thead th {\n",
       "        text-align: right;\n",
       "    }\n",
       "</style>\n",
       "<table border=\"1\" class=\"dataframe\">\n",
       "  <thead>\n",
       "    <tr style=\"text-align: right;\">\n",
       "      <th></th>\n",
       "      <th>c1</th>\n",
       "      <th>c2</th>\n",
       "      <th>new</th>\n",
       "    </tr>\n",
       "  </thead>\n",
       "  <tbody>\n",
       "    <tr>\n",
       "      <th>0</th>\n",
       "      <td>high</td>\n",
       "      <td>0</td>\n",
       "      <td>0</td>\n",
       "    </tr>\n",
       "    <tr>\n",
       "      <th>1</th>\n",
       "      <td>high</td>\n",
       "      <td>23</td>\n",
       "      <td>1</td>\n",
       "    </tr>\n",
       "    <tr>\n",
       "      <th>2</th>\n",
       "      <td>low</td>\n",
       "      <td>17</td>\n",
       "      <td>0</td>\n",
       "    </tr>\n",
       "    <tr>\n",
       "      <th>3</th>\n",
       "      <td>low</td>\n",
       "      <td>4</td>\n",
       "      <td>0</td>\n",
       "    </tr>\n",
       "  </tbody>\n",
       "</table>\n",
       "</div>"
      ],
      "text/plain": [
       "     c1  c2  new\n",
       "0  high   0    0\n",
       "1  high  23    1\n",
       "2   low  17    0\n",
       "3   low   4    0"
      ]
     },
     "execution_count": 28,
     "metadata": {},
     "output_type": "execute_result"
    }
   ],
   "source": [
    "#https://towardsdatascience.com/10-python-pandas-tricks-that-make-your-work-more-efficient-2e8e483808ba\n",
    "\n",
    "\n",
    "def rule(x, y):\n",
    "    if x == 'high' and y > 10:\n",
    "         return 1\n",
    "    else:\n",
    "         return 0\n",
    "df = pd.DataFrame({ 'c1':[ 'high' ,'high', 'low', 'low'], 'c2': [0, 23, 17, 4]})\n",
    "df['new'] = df.apply(lambda x: rule(x['c1'], x['c2']), axis =  1)\n",
    "df.head()"
   ]
  },
  {
   "cell_type": "code",
   "execution_count": 29,
   "metadata": {},
   "outputs": [
    {
     "name": "stdout",
     "output_type": "stream",
     "text": [
      "(76,)\n",
      "2016-03-05    0.022897\n",
      "2016-03-06    0.015320\n",
      "2016-03-07    0.034737\n",
      "2016-03-08    0.033316\n",
      "2016-03-09    0.033151\n",
      "2016-03-10    0.031895\n",
      "2016-03-11    0.032904\n",
      "2016-03-12    0.036755\n",
      "2016-03-13    0.017008\n",
      "2016-03-14    0.035190\n",
      "2016-03-15    0.034016\n",
      "2016-03-16    0.030125\n",
      "2016-03-17    0.031278\n",
      "2016-03-18    0.013590\n",
      "2016-03-19    0.033687\n",
      "2016-03-20    0.037949\n",
      "2016-03-21    0.037579\n",
      "2016-03-22    0.032801\n",
      "2016-03-23    0.032060\n",
      "2016-03-24    0.029280\n",
      "2016-03-25    0.031751\n",
      "2016-03-26    0.032266\n",
      "2016-03-27    0.030989\n",
      "2016-03-28    0.034984\n",
      "2016-03-29    0.034037\n",
      "2016-03-30    0.033501\n",
      "2016-03-31    0.031875\n",
      "2016-04-01    0.033687\n",
      "2016-04-02    0.035149\n",
      "2016-04-03    0.038855\n",
      "2016-04-04    0.036858\n",
      "2016-04-05    0.011819\n",
      "Name: ad_created, dtype: float64\n"
     ]
    }
   ],
   "source": [
    "print(autos[\"ad_created\"].str[:10].unique().shape)\n",
    "autos_ads_cr=(autos[\"ad_created\"]\n",
    "        .str[:10]\n",
    "        .value_counts(normalize=True, dropna=False)\n",
    "        .sort_index()\n",
    ")\n",
    "autos_ads_cr[autos_ads_cr>0.02]\n",
    "print(autos_ads_cr[autos_ads_cr>0.01])"
   ]
  },
  {
   "cell_type": "code",
   "execution_count": 30,
   "metadata": {},
   "outputs": [
    {
     "name": "stdout",
     "output_type": "stream",
     "text": [
      "volkswagen       21.282817\n",
      "opel             10.865850\n",
      "bmw              10.859673\n",
      "mercedes_benz     9.578915\n",
      "audi              8.582312\n",
      "ford              6.963863\n",
      "Name: brand, dtype: float64\n",
      "\n",
      "The auto brands that represented above the 5% in the population are made up 68.13% of the total listings.\n"
     ]
    }
   ],
   "source": [
    "autos_brand_frq_pct=autos[\"brand\"].value_counts(normalize=True)*100\n",
    "print(autos_brand_frq_pct[autos_brand_frq_pct.values>5],)\n",
    "print('\\n', end='')\n",
    "print('The auto brands that represented above the 5% in the population are made up ', \\\n",
    "      round(autos_brand_frq_pct[autos_brand_frq_pct.values>5].sum(),2) , '% of the total listings.', sep='')"
   ]
  },
  {
   "cell_type": "code",
   "execution_count": 130,
   "metadata": {},
   "outputs": [
    {
     "data": {
      "text/plain": [
       "['volkswagen', 'opel', 'bmw', 'mercedes_benz', 'audi', 'ford']"
      ]
     },
     "execution_count": 130,
     "metadata": {},
     "output_type": "execute_result"
    }
   ],
   "source": [
    "drop_brands=autos_brand_frq_pct[autos_brand_frq_pct<5].index\n",
    "keep_brands=autos_brand_frq_pct[autos_brand_frq_pct>5].index\n",
    "#for i in autos[\"brand\"].unique():\n",
    "#    if i not in keep_brands:\n",
    "#        drop_brands.append(i)\n",
    "#dr_list=list(drop_brands.index)\n",
    "#drop_brands=autos.drop(autos[autos['brand']==drop_brands].index)\n",
    "\n",
    "keep_brands=list(keep_brands)\n",
    "#list_of_values = [3,6]\n",
    "#y = df[df['A'] in list_of_values]\n",
    "keep_brands\n"
   ]
  },
  {
   "cell_type": "markdown",
   "metadata": {},
   "source": [
    "We have filtered for the brands representing the 68.13% of the total listings and made a new df named `keep_autos`."
   ]
  },
  {
   "cell_type": "code",
   "execution_count": null,
   "metadata": {},
   "outputs": [],
   "source": [
    "keep_autos=autos[autos['brand'].isin(keep_brands)]\n",
    "keep_autos[\"brand\"].value_counts(normalize=True)*100\n",
    "#https://stackoverflow.com/questions/12096252/use-a-list-of-values-to-select-rows-from-a-pandas-dataframe\n",
    "#https://stackoverflow.com/questions/32980087/pandas-not-in-in-and-between\n",
    "#https://stackoverflow.com/questions/19960077/how-to-implement-in-and-not-in-for-pandas-dataframe\n",
    "\n",
    "#h1 = df1[~df1['nat_actn_2_3'].isin(['100','101','102','103','104'])]"
   ]
  },
  {
   "cell_type": "code",
   "execution_count": 142,
   "metadata": {},
   "outputs": [
    {
     "data": {
      "text/plain": [
       "audi             9212\n",
       "mercedes_benz    8536\n",
       "bmw              8261\n",
       "volkswagen       5332\n",
       "ford             3728\n",
       "opel             2944\n",
       "dtype: int64"
      ]
     },
     "execution_count": 142,
     "metadata": {},
     "output_type": "execute_result"
    }
   ],
   "source": [
    "brand_mean_prices = {}\n",
    "\n",
    "for brand in keep_brands:\n",
    "    brand_only = keep_autos[keep_autos[\"brand\"] == brand]\n",
    "    mean_price = brand_only[\"price\"].mean()\n",
    "    brand_mean_prices[brand] = int(mean_price)\n",
    "\n",
    "brand_mean_prices=pd.Series(brand_mean_prices)\n",
    "brand_mean_prices.sort_values(ascending=False)"
   ]
  },
  {
   "cell_type": "markdown",
   "metadata": {},
   "source": [
    "Audi, Mercedes and BMW leads the pack in terms of avg prices, VW is in minddle, and Ford & Opel is the most inexpensive ones."
   ]
  },
  {
   "cell_type": "code",
   "execution_count": 152,
   "metadata": {},
   "outputs": [
    {
     "data": {
      "text/html": [
       "<div>\n",
       "<style scoped>\n",
       "    .dataframe tbody tr th:only-of-type {\n",
       "        vertical-align: middle;\n",
       "    }\n",
       "\n",
       "    .dataframe tbody tr th {\n",
       "        vertical-align: top;\n",
       "    }\n",
       "\n",
       "    .dataframe thead th {\n",
       "        text-align: right;\n",
       "    }\n",
       "</style>\n",
       "<table border=\"1\" class=\"dataframe\">\n",
       "  <thead>\n",
       "    <tr style=\"text-align: right;\">\n",
       "      <th></th>\n",
       "      <th>mean_prices</th>\n",
       "    </tr>\n",
       "  </thead>\n",
       "  <tbody>\n",
       "    <tr>\n",
       "      <th>audi</th>\n",
       "      <td>9212</td>\n",
       "    </tr>\n",
       "    <tr>\n",
       "      <th>mercedes_benz</th>\n",
       "      <td>8536</td>\n",
       "    </tr>\n",
       "    <tr>\n",
       "      <th>bmw</th>\n",
       "      <td>8261</td>\n",
       "    </tr>\n",
       "    <tr>\n",
       "      <th>volkswagen</th>\n",
       "      <td>5332</td>\n",
       "    </tr>\n",
       "    <tr>\n",
       "      <th>ford</th>\n",
       "      <td>3728</td>\n",
       "    </tr>\n",
       "    <tr>\n",
       "      <th>opel</th>\n",
       "      <td>2944</td>\n",
       "    </tr>\n",
       "  </tbody>\n",
       "</table>\n",
       "</div>"
      ],
      "text/plain": [
       "               mean_prices\n",
       "audi                  9212\n",
       "mercedes_benz         8536\n",
       "bmw                   8261\n",
       "volkswagen            5332\n",
       "ford                  3728\n",
       "opel                  2944"
      ]
     },
     "execution_count": 152,
     "metadata": {},
     "output_type": "execute_result"
    }
   ],
   "source": [
    "df_brand_means=pd.DataFrame(brand_mean_prices, columns=[\"mean_prices\"]).sort_values(by=\"mean_prices\", ascending=False)\n",
    "df_brand_means"
   ]
  },
  {
   "cell_type": "code",
   "execution_count": 157,
   "metadata": {},
   "outputs": [
    {
     "data": {
      "text/html": [
       "<div>\n",
       "<style scoped>\n",
       "    .dataframe tbody tr th:only-of-type {\n",
       "        vertical-align: middle;\n",
       "    }\n",
       "\n",
       "    .dataframe tbody tr th {\n",
       "        vertical-align: top;\n",
       "    }\n",
       "\n",
       "    .dataframe thead th {\n",
       "        text-align: right;\n",
       "    }\n",
       "</style>\n",
       "<table border=\"1\" class=\"dataframe\">\n",
       "  <thead>\n",
       "    <tr style=\"text-align: right;\">\n",
       "      <th></th>\n",
       "      <th>mean_prices</th>\n",
       "      <th>mean_mileage</th>\n",
       "    </tr>\n",
       "  </thead>\n",
       "  <tbody>\n",
       "    <tr>\n",
       "      <th>audi</th>\n",
       "      <td>9212</td>\n",
       "      <td>129492</td>\n",
       "    </tr>\n",
       "    <tr>\n",
       "      <th>mercedes_benz</th>\n",
       "      <td>8536</td>\n",
       "      <td>130796</td>\n",
       "    </tr>\n",
       "    <tr>\n",
       "      <th>bmw</th>\n",
       "      <td>8261</td>\n",
       "      <td>132682</td>\n",
       "    </tr>\n",
       "    <tr>\n",
       "      <th>volkswagen</th>\n",
       "      <td>5332</td>\n",
       "      <td>128896</td>\n",
       "    </tr>\n",
       "    <tr>\n",
       "      <th>ford</th>\n",
       "      <td>3728</td>\n",
       "      <td>124349</td>\n",
       "    </tr>\n",
       "    <tr>\n",
       "      <th>opel</th>\n",
       "      <td>2944</td>\n",
       "      <td>129383</td>\n",
       "    </tr>\n",
       "  </tbody>\n",
       "</table>\n",
       "</div>"
      ],
      "text/plain": [
       "               mean_prices  mean_mileage\n",
       "audi                  9212        129492\n",
       "mercedes_benz         8536        130796\n",
       "bmw                   8261        132682\n",
       "volkswagen            5332        128896\n",
       "ford                  3728        124349\n",
       "opel                  2944        129383"
      ]
     },
     "execution_count": 157,
     "metadata": {},
     "output_type": "execute_result"
    }
   ],
   "source": [
    "brand_mean_mileage = {}\n",
    "\n",
    "for brand in keep_brands:\n",
    "    brand_only = keep_autos[keep_autos[\"brand\"] == brand]\n",
    "    mean_mileage = brand_only[\"odometer_km\"].mean()\n",
    "    brand_mean_mileage[brand] = int(mean_mileage)\n",
    "\n",
    "mean_mileage = pd.Series(brand_mean_mileage).sort_values(ascending=False)\n",
    "mean_prices = pd.Series(brand_mean_prices).sort_values(ascending=False)\n",
    "\n",
    "df_brand_means['mean_mileage']=mean_mileage\n",
    "df_brand_means"
   ]
  }
 ],
 "metadata": {
  "kernelspec": {
   "display_name": "Python 3",
   "language": "python",
   "name": "python3"
  },
  "language_info": {
   "codemirror_mode": {
    "name": "ipython",
    "version": 3
   },
   "file_extension": ".py",
   "mimetype": "text/x-python",
   "name": "python",
   "nbconvert_exporter": "python",
   "pygments_lexer": "ipython3",
   "version": "3.7.1"
  }
 },
 "nbformat": 4,
 "nbformat_minor": 2
}
